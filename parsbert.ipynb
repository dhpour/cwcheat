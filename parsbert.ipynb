{
 "cells": [
  {
   "cell_type": "markdown",
   "id": "b647ee73-303f-4c12-bd47-1af1de5c2a68",
   "metadata": {
    "scrolled": true
   },
   "source": [
    "# Semantic Search over crosswords dataset by ParsBERT-FarsTail model"
   ]
  },
  {
   "cell_type": "code",
   "execution_count": null,
   "id": "f05ce24b-1ee1-44ba-b924-67e28580f9bb",
   "metadata": {},
   "outputs": [],
   "source": [
    "from tqdm import tqdm\n",
    "import torch\n",
    "from sentence_transformers import models, SentenceTransformer, util\n",
    "import random"
   ]
  },
  {
   "cell_type": "markdown",
   "id": "b9608189-5b27-4889-866a-3408ea208ca2",
   "metadata": {},
   "source": [
    "Using [bert-fa-base-uncased-farstail](https://huggingface.co/m3hrdadfi/bert-fa-base-uncased-farstail) which is fine-tuned on [ParsBERT](https://github.com/hooshvare/parsbert) with [FarsTail dataset](https://github.com/dml-qom/FarsTail). For more info check [Sentence Transofrmers](https://github.com/m3hrdadfi/sentence-transformer)))"
   ]
  },
  {
   "cell_type": "code",
   "execution_count": 8,
   "id": "b7918a44-867c-449f-8359-fe90546e3c03",
   "metadata": {},
   "outputs": [],
   "source": [
    "def load_st_model(model_name_or_path):\n",
    "    word_embedding_model = models.Transformer(model_name_or_path)\n",
    "    pooling_model = models.Pooling(\n",
    "        word_embedding_model.get_word_embedding_dimension(),\n",
    "        pooling_mode_mean_tokens=True,\n",
    "        pooling_mode_cls_token=False,\n",
    "        pooling_mode_max_tokens=False)\n",
    "    \n",
    "    model = SentenceTransformer(modules=[word_embedding_model, pooling_model])\n",
    "    return model"
   ]
  },
  {
   "cell_type": "code",
   "execution_count": 10,
   "id": "79fac15b-375a-4e24-98fd-58f048ee5d4f",
   "metadata": {},
   "outputs": [],
   "source": [
    "# Load the Sentence-Transformer\n",
    "\n",
    "#load from local files\n",
    "embedder = load_st_model('model/bert-fa-base-uncased-farstail')\n",
    "\n",
    "#load from hugginface\n",
    "#embedder = load_st_model('m3hrdadfi/bert-fa-base-uncased-farstail')"
   ]
  },
  {
   "cell_type": "code",
   "execution_count": null,
   "id": "874e1dae-afe9-429f-a103-2bc7f526c360",
   "metadata": {},
   "outputs": [],
   "source": [
    "#save model to local\n",
    "#embedder.save(\"model/bert-fa-base-uncased-farstail\")"
   ]
  },
  {
   "cell_type": "code",
   "execution_count": 65,
   "id": "b6d8922c-18d7-456a-9332-0a11564fec90",
   "metadata": {},
   "outputs": [],
   "source": [
    "cw_lines = []"
   ]
  },
  {
   "cell_type": "code",
   "execution_count": 66,
   "id": "ec0da82d-9e27-4b05-aab5-dcb7b52952ed",
   "metadata": {},
   "outputs": [],
   "source": [
    "data_files = [\"cw.train.tsv\", \"cw.dev.tsv\", \"cw.test.tsv\"]\n",
    "index = 0\n",
    "for file in data_files:\n",
    "    for i, line in enumerate(open(file, encoding=\"utf-8\")):\n",
    "        cw_lines.append(line.strip())\n",
    "        index += 1"
   ]
  },
  {
   "cell_type": "code",
   "execution_count": 184,
   "id": "c323d923-fb6b-4990-b04b-054c7e420ddc",
   "metadata": {},
   "outputs": [
    {
     "name": "stdout",
     "output_type": "stream",
     "text": [
      "بی حال و سست\tکسل\n",
      "آرام و یواش\tاهسته\n",
      "30157\n"
     ]
    }
   ],
   "source": [
    "print(cw_lines[0], cw_lines[-1], len(cw_lines), sep=\"\\n\")"
   ]
  },
  {
   "cell_type": "markdown",
   "id": "3e802d4f-2b52-4c99-8e47-1cfec7152ec0",
   "metadata": {},
   "source": [
    "Embed all dataset records"
   ]
  },
  {
   "cell_type": "code",
   "execution_count": 128,
   "id": "7bda3595-37c2-456d-9ebf-e094df9289d2",
   "metadata": {},
   "outputs": [
    {
     "data": {
      "application/vnd.jupyter.widget-view+json": {
       "model_id": "a1f0be22eb9142ae9681f9a62b632a08",
       "version_major": 2,
       "version_minor": 0
      },
      "text/plain": [
       "Batches:   0%|          | 0/943 [00:00<?, ?it/s]"
      ]
     },
     "metadata": {},
     "output_type": "display_data"
    }
   ],
   "source": [
    "all_embeddings = embedder.encode(cw_lines, convert_to_tensor=True, show_progress_bar=True)"
   ]
  },
  {
   "cell_type": "markdown",
   "id": "6d9f09ae-13b7-4651-922a-7ca3fb25a057",
   "metadata": {},
   "source": [
    "Calculate query similarity against all records of dataset except itself. Create first and top_five matches lists."
   ]
  },
  {
   "cell_type": "code",
   "execution_count": 147,
   "id": "dc9a04be-9e91-4c27-84a2-bc4dc0a05e54",
   "metadata": {
    "scrolled": true
   },
   "outputs": [
    {
     "name": "stderr",
     "output_type": "stream",
     "text": [
      "100%|██████████| 30157/30157 [28:16<00:00, 17.77it/s]\n"
     ]
    }
   ],
   "source": [
    "top_k = 6\n",
    "\n",
    "firsts = []\n",
    "top_fives = []\n",
    "for i in tqdm(range(len(cw_lines))):\n",
    "    q = cw_lines[i].split(\"\\t\")[0]\n",
    "    a = cw_lines[i].split(\"\\t\")[1]\n",
    "    \n",
    "    query_embedding = embedder.encode(q, convert_to_tensor=True, show_progress_bar=False)\n",
    "    cos_scores = util.pytorch_cos_sim(query_embedding, all_embeddings)[0]\n",
    "    #cos_scores = util.semantic_search(query_embedding, all_embeddings)[0]\n",
    "    cos_scores = cos_scores.cpu()\n",
    "    \n",
    "    #We use torch.topk to find the highest 5 scores\n",
    "    top_results = torch.topk(cos_scores, k=top_k)\n",
    "\n",
    "    first = []\n",
    "    for j in [0, 1]:\n",
    "        if top_results[1][j] != i and a in cw_lines[top_results[1][j]]:\n",
    "            firsts.append({\n",
    "                    'q': q,\n",
    "                    'a': a,\n",
    "                    'found': cw_lines[top_results[1][j]],\n",
    "                    'score': top_results[0][j]\n",
    "                })\n",
    "    \n",
    "    top_five = []\n",
    "    top_score = []\n",
    "    for score, idx in zip(top_results[0], top_results[1]):\n",
    "        if idx != i and a in cw_lines[idx]:\n",
    "            top_five.append(cw_lines[idx])\n",
    "            top_score.append(score)\n",
    "\n",
    "    if top_five:\n",
    "        top_fives.append({\n",
    "            'q': q,\n",
    "            'a': a,\n",
    "            'found': top_five,\n",
    "            'score': top_score\n",
    "        })\n",
    "    #for r in cos_scores:\n",
    "        #print(cw_lines[r['corpus_id']], round(r['score']*100, 2))\n",
    "    #print('- - '*50)"
   ]
  },
  {
   "cell_type": "code",
   "execution_count": 149,
   "id": "4e4e366b-6c99-4cff-827e-2eb2dd174ca5",
   "metadata": {},
   "outputs": [
    {
     "data": {
      "text/plain": [
       "(3966, 6853)"
      ]
     },
     "execution_count": 149,
     "metadata": {},
     "output_type": "execute_result"
    }
   ],
   "source": [
    "len(firsts), len(top_fives)"
   ]
  },
  {
   "cell_type": "markdown",
   "id": "d8343b0a-ff22-4134-88a4-1abe41318729",
   "metadata": {},
   "source": [
    "Percentage of first highest scores and top five highest scores in record match (existing of answer in question or answer)"
   ]
  },
  {
   "cell_type": "code",
   "execution_count": 188,
   "id": "992e9c30-18c8-4392-a2f7-537b553e97ec",
   "metadata": {},
   "outputs": [
    {
     "data": {
      "text/plain": [
       "(0.1315117551480585, 22.72)"
      ]
     },
     "execution_count": 188,
     "metadata": {},
     "output_type": "execute_result"
    }
   ],
   "source": [
    "len(firsts)/len(cw_lines), round(len(top_fives)/len(cw_lines)*100, 2)"
   ]
  },
  {
   "cell_type": "code",
   "execution_count": 150,
   "id": "8b3e4850-1497-40e0-a1c2-2b8ddfe9e951",
   "metadata": {},
   "outputs": [
    {
     "data": {
      "text/plain": [
       "{'q': 'پزشک و طبیب',\n",
       " 'a': 'دکتر',\n",
       " 'found': 'دکتر و پزشک\\tطبیب',\n",
       " 'score': tensor(0.9382)}"
      ]
     },
     "execution_count": 150,
     "metadata": {},
     "output_type": "execute_result"
    }
   ],
   "source": [
    "random.choice(firsts)"
   ]
  },
  {
   "cell_type": "code",
   "execution_count": 151,
   "id": "f768d81c-1df0-4680-83a1-adadf42ec979",
   "metadata": {},
   "outputs": [
    {
     "data": {
      "text/plain": [
       "{'q': 'زیادی و اضافی',\n",
       " 'a': 'زاید',\n",
       " 'found': ['زیادی\\tزاید'],\n",
       " 'score': [tensor(0.7994)]}"
      ]
     },
     "execution_count": 151,
     "metadata": {},
     "output_type": "execute_result"
    }
   ],
   "source": [
    "random.choice(top_fives)"
   ]
  },
  {
   "cell_type": "markdown",
   "id": "0dc87e55-d905-45ee-8af1-af3f2a0c0898",
   "metadata": {},
   "source": [
    "Percentage of exact matches of first highst scores"
   ]
  },
  {
   "cell_type": "code",
   "execution_count": 153,
   "id": "02f0f1a8-1572-47cc-a648-ffbddde5488c",
   "metadata": {},
   "outputs": [],
   "source": [
    "refined_first  = [x for x in firsts if x['a'] == x['found'].split(\"\\t\")[1]]"
   ]
  },
  {
   "cell_type": "code",
   "execution_count": 187,
   "id": "80013753-ac78-4d28-a8f1-fad6d95990d7",
   "metadata": {},
   "outputs": [
    {
     "data": {
      "text/plain": [
       "(2463, 8.17)"
      ]
     },
     "execution_count": 187,
     "metadata": {},
     "output_type": "execute_result"
    }
   ],
   "source": [
    "len(refined_first), round(len(refined_first)/len(cw_lines)*100, 2)"
   ]
  },
  {
   "cell_type": "markdown",
   "id": "1a5c2b96-cda2-40d6-9cd3-1e5a00bd7b14",
   "metadata": {},
   "source": [
    "Percentage of exact matches of top five highest scores."
   ]
  },
  {
   "cell_type": "code",
   "execution_count": 175,
   "id": "3a83c6d2-968e-42af-92d0-e0638161dbe0",
   "metadata": {},
   "outputs": [],
   "source": [
    "refined_top_fives = []\n",
    "for five in top_fives:\n",
    "    for i, f in enumerate(five['found']):\n",
    "        if five['a'] == f.split(\"\\t\")[1]:\n",
    "            refined_top_fives.append({\n",
    "                'q': five['q'],\n",
    "                'a': five['a'],\n",
    "                'found': f,\n",
    "                'score': five['score'][i]\n",
    "            })\n",
    "            break"
   ]
  },
  {
   "cell_type": "code",
   "execution_count": 186,
   "id": "f43ced71-28dc-4a2a-9a09-be1f3f267262",
   "metadata": {},
   "outputs": [
    {
     "data": {
      "text/plain": [
       "(4656, 15.44)"
      ]
     },
     "execution_count": 186,
     "metadata": {},
     "output_type": "execute_result"
    }
   ],
   "source": [
    "len(refined_top_fives), round(len(refined_top_fives)/len(cw_lines)*100, 2)"
   ]
  },
  {
   "cell_type": "code",
   "execution_count": 163,
   "id": "15ae4333-d5dc-41ab-b0b6-6cdae22ac5a7",
   "metadata": {},
   "outputs": [
    {
     "data": {
      "text/plain": [
       "{'q': 'گرد چیزی گشتن',\n",
       " 'a': 'طواف',\n",
       " 'found': 'پیرامون چیزی گشتن\\tطواف',\n",
       " 'score': tensor(0.8122)}"
      ]
     },
     "execution_count": 163,
     "metadata": {},
     "output_type": "execute_result"
    }
   ],
   "source": [
    "random.choice(refined_first)"
   ]
  }
 ],
 "metadata": {
  "kernelspec": {
   "display_name": "Python 3 (ipykernel)",
   "language": "python",
   "name": "python3"
  },
  "language_info": {
   "codemirror_mode": {
    "name": "ipython",
    "version": 3
   },
   "file_extension": ".py",
   "mimetype": "text/x-python",
   "name": "python",
   "nbconvert_exporter": "python",
   "pygments_lexer": "ipython3",
   "version": "3.11.6"
  }
 },
 "nbformat": 4,
 "nbformat_minor": 5
}
