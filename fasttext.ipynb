{
 "cells": [
  {
   "cell_type": "markdown",
   "id": "26fda5b9-6cd8-4549-837f-084d3a1553ad",
   "metadata": {},
   "source": [
    "# Semantic Search over crosswords data by Fasttext embeddings"
   ]
  },
  {
   "cell_type": "code",
   "execution_count": 1,
   "id": "ed47bb4c-6070-4042-a64d-8b16b1c80a65",
   "metadata": {},
   "outputs": [],
   "source": [
    "import fasttext\n",
    "import numpy as np\n",
    "import sys\n",
    "import math\n",
    "from typing import List\n",
    "import re\n",
    "from pprint import pprint as print\n",
    "from tqdm import tqdm\n",
    "import random"
   ]
  },
  {
   "cell_type": "markdown",
   "id": "aa52d691-2693-4cd6-b52a-2f2b6c8104cc",
   "metadata": {},
   "source": [
    "Using [fasttext Persian embeddings model binary](https://dl.fbaipublicfiles.com/fasttext/vectors-crawl/cc.fa.300.bin.gz) which was trained using CBOW on Persian texts. The model consists of embeddings for 2M words."
   ]
  },
  {
   "cell_type": "code",
   "execution_count": 2,
   "id": "04dce038-57cd-4cfc-8db3-8ffc76d560ff",
   "metadata": {},
   "outputs": [],
   "source": [
    "farsi = fasttext.load_model(\"model/cc.fa.300.bin\")"
   ]
  },
  {
   "cell_type": "code",
   "execution_count": 3,
   "id": "d4201d94-3182-4ffe-9db4-d070c904ec4b",
   "metadata": {},
   "outputs": [],
   "source": [
    "cw_lines = []"
   ]
  },
  {
   "cell_type": "code",
   "execution_count": 4,
   "id": "ac5b6f9b-66b3-4b70-ac6e-6e51f655aebf",
   "metadata": {},
   "outputs": [],
   "source": [
    "data_files = [\"cw.train.tsv\", \"cw.dev.tsv\", \"cw.test.tsv\"]\n",
    "index = 0\n",
    "for file in data_files:\n",
    "    for i, line in enumerate(open(file, encoding=\"utf-8\")):\n",
    "        cw_lines.append([index, line.strip()])\n",
    "        index += 1"
   ]
  },
  {
   "cell_type": "code",
   "execution_count": 6,
   "id": "5ff444a3-e7a7-490a-b60a-78810ac9fedb",
   "metadata": {},
   "outputs": [
    {
     "data": {
      "text/plain": [
       "([0, 'بی حال و سست\\tکسل'], 30157, [30156, 'آرام و یواش\\tاهسته'])"
      ]
     },
     "execution_count": 6,
     "metadata": {},
     "output_type": "execute_result"
    }
   ],
   "source": [
    "cw_lines[0], len(cw_lines), cw_lines[-1]"
   ]
  },
  {
   "cell_type": "code",
   "execution_count": 7,
   "id": "d3bf39a8-2cc1-4407-a123-a1a0f7b25951",
   "metadata": {},
   "outputs": [],
   "source": [
    "def embed(word: str):\n",
    "    return farsi.get_word_vector(word)"
   ]
  },
  {
   "cell_type": "code",
   "execution_count": 8,
   "id": "f56531a0-3ed7-4347-9826-e0a0ab57ba2a",
   "metadata": {},
   "outputs": [],
   "source": [
    "def cosine(vec_1: List[float], vec_2: List[float]):\n",
    "    #return np.dot(vec_1, vec_2)\n",
    "    return float(np.dot(vec_1, vec_2)/(np.linalg.norm(vec_1) * np.linalg.norm(vec_2)))\n",
    "\n",
    "def sentence_similarity(evd_emb, sentence_embs):\n",
    "    similarities = [cosine(evd_emb, sentence_emb[1]) for sentence_emb in sentence_embs]\n",
    "    return similarities"
   ]
  },
  {
   "cell_type": "markdown",
   "id": "433f6cf1-c68a-44ef-bc31-de14d414f727",
   "metadata": {},
   "source": [
    "Make embeddings of a sentence based on each word embeddings"
   ]
  },
  {
   "cell_type": "code",
   "execution_count": 9,
   "id": "bd080b04-d086-470e-8146-7510d996ade8",
   "metadata": {},
   "outputs": [],
   "source": [
    "def embed_sentence(sentence: str, window: int = sys.maxsize):\n",
    "    tokens = sentence.split()\n",
    "    vectors = [embed(word) for word in tokens]\n",
    "\n",
    "    averages = []\n",
    "    averages.append(np.average(np.array(vectors), axis=0))\n",
    "    return averages[0]"
   ]
  },
  {
   "cell_type": "markdown",
   "id": "1508e79d-b1f7-4cc7-9480-0de4db0df3c1",
   "metadata": {},
   "source": [
    "Embed all dataset records"
   ]
  },
  {
   "cell_type": "code",
   "execution_count": 10,
   "id": "603df51b-214e-42dc-9b7b-779a445761c0",
   "metadata": {},
   "outputs": [],
   "source": [
    "all_vs_embed = []\n",
    "vocabs = []\n",
    "for i, entry in cw_lines:\n",
    "    sentence_embeddings = embed_sentence(entry)\n",
    "    all_vs_embed.append([i, sentence_embeddings])\n",
    "    vocabs.append([i, entry])"
   ]
  },
  {
   "cell_type": "markdown",
   "id": "8f347270-3f81-4327-bea6-c3ddb04a620d",
   "metadata": {},
   "source": [
    "Calculate similarity of a sentence embeddings agains all dataset records embeddings. Then return the sorted list."
   ]
  },
  {
   "cell_type": "code",
   "execution_count": 11,
   "id": "b7a8e554-b1db-4a1e-ba26-3282ae80c777",
   "metadata": {},
   "outputs": [],
   "source": [
    "def qa_sim(q_embed, i=-1):\n",
    "    all_embeds = all_vs_embed\n",
    "    altered_vocabs = vocabs\n",
    "\n",
    "    if i != -1:\n",
    "        all_embeds = [x for x in all_vs_embed if x[0] != i]\n",
    "        altered_vocabs = [x for x in vocabs if x[0] != i]\n",
    "\n",
    "    return sorted(list(zip(sentence_similarity(q_embed, all_embeds), altered_vocabs)), reverse=True)"
   ]
  },
  {
   "cell_type": "markdown",
   "id": "922471c4-426d-4944-9a07-5fd886111242",
   "metadata": {},
   "source": [
    "Testing sample queries"
   ]
  },
  {
   "cell_type": "code",
   "execution_count": 12,
   "id": "7d8b57b7-96b5-4d5f-bec8-87e81e29528d",
   "metadata": {
    "scrolled": true
   },
   "outputs": [
    {
     "name": "stdout",
     "output_type": "stream",
     "text": [
      "'اسیر و گرفتار'\n",
      "[(0.9431297779083252, [17890, 'دربند و گرفتار\\tاسیر']),\n",
      " (0.9431297779083252, [15662, 'گرفتار و اسیر\\tدربند']),\n",
      " (0.8334949016571045, [26791, 'اسارت و گرفتاری\\tاسیری']),\n",
      " (0.8309114575386047, [16067, 'گرفتار و مشغول\\tدرگیر']),\n",
      " (0.783309280872345, [6320, 'گرفتار و مبتلا\\tدچار'])]\n",
      "'داستانی به قلم آندره ژید فرانسوی'\n",
      "[(0.72873455286026, [12301, 'کتابی به قلم ناهید طباطبایی\\tچهلسالگی']),\n",
      " (0.6134222149848938,\n",
      "  [23343, 'کتابی از سهراب سپهری که به نثر نگاشته شده\\u200cاست\\tاتاقابی']),\n",
      " (0.60152667760849, [13677, 'اثري از آندره مالرو\\tروزهایخشم']),\n",
      " (0.5866066217422485,\n",
      "  [17068, 'فیلمی به کارگردانی و نویسندگی محمدعلی سجادی\\tرنگشب']),\n",
      " (0.5800595283508301, [16206, 'سرهنگ به فرانسوی\\tکلنل'])]\n",
      "'جهل'\n",
      "[(0.9682827591896057, [1237, 'نادانی\\tجهل']),\n",
      " (0.7587428689002991, [27300, 'جهالت\\tنادانی']),\n",
      " (0.7587428689002991, [9245, 'نادانی\\tجهالت']),\n",
      " (0.6205307841300964, [26077, 'نادانی و حماقت\\tسفاهت']),\n",
      " (0.5980551242828369, [13951, '38\\tجهل'])]\n",
      "'حیوان'\n",
      "[(0.8916774988174438, [22791, 'جانور\\tحیوان']),\n",
      " (0.8018967509269714, [10214, 'حیوان دست\\u200cآموز\\tاهلی']),\n",
      " (0.7918844819068909, [12836, 'حیوان استرالیایی\\tکانگورو']),\n",
      " (0.7677536010742188, [14733, 'حیوان وحشی\\tدرنده']),\n",
      " (0.7598966360092163, [16337, 'حیوان حیله\\u200cگر\\tروباه'])]\n",
      "'فرمانی نظامی'\n",
      "[(0.6973175406455994, [18743, 'نظامی\\tارتشی']),\n",
      " (0.6344847083091736, [30141, 'نهاد نظامی ایران\\tسپاه']),\n",
      " (0.6337618827819824, [8800, 'هواپیمای نظامی\\tجنگنده']),\n",
      " (0.6076982617378235, [21233, 'تمرین نظامی\\tرزمایش']),\n",
      " (0.5967355370521545, [28030, 'واحد نظامی\\tیگان'])]\n",
      "'پیام آسمانی'\n",
      "[(0.7908124923706055, [8957, 'پیام آسمانی\\tوحی']),\n",
      " (0.7771340608596802, [7222, 'پیغام\\tپیام']),\n",
      " (0.7320719361305237, [16301, 'message\\tپیام']),\n",
      " (0.6966079473495483, [22096, 'ابلاغ پیام\\tرساندن']),\n",
      " (0.6873549222946167, [29270, 'پیام آوری\\tرسالت'])]\n",
      "'نهفتگی'\n",
      "[(0.47312042117118835, [19123, 'واگیری بیماری\\tسرایت']),\n",
      " (0.43164968490600586, [23516, 'سرایت بیماری\\tشیوع']),\n",
      " (0.4125904440879822, [18005, 'مدت زمان معین\\tدوره']),\n",
      " (0.4121967554092407, [8484, 'sickness\\tبیماری']),\n",
      " (0.40913939476013184, [28534, 'بیماری مسری\\tابلهمرغان'])]\n",
      "'افزونی برنج پس از پخته شدن'\n",
      "[(0.8148679733276367, [13242, 'یکی پس از دیگری\\tمتناوب']),\n",
      " (0.8123345375061035, [3092, 'نیرو گرفتن پس از بیماری\\tجانگرفتن']),\n",
      " (0.7961261868476868, [24308, 'یکی پس از دیگری\\tپیدرپی']),\n",
      " (0.7944114208221436, [2024, 'دوران پس از بیماری\\tنقاهت']),\n",
      " (0.7934951186180115,\n",
      "  [24506, 'از بازیگران سریال خاطره\\u200cانگیز پس از باران\\tمهوشصبرکن'])]\n",
      "'گاز نجیب سبک'\n",
      "[(0.6813680529594421, [4411, 'نجیب\\tاصیل']),\n",
      " (0.6700870394706726, [24360, 'گاز جوشکاری\\tاستیلن']),\n",
      " (0.6452352404594421, [4653, 'گاز مرداب\\tمتان']),\n",
      " (0.6447842717170715, [7181, 'وسیله کاهش فشار گاز\\tرگلاتور']),\n",
      " (0.6435673832893372, [20300, 'مقابل سبک\\tسنگین'])]\n",
      "'خوش طعم'\n",
      "[(0.9526339173316956, [14702, 'خوش طعم\\tلذیذ']),\n",
      " (0.8475932478904724, [23685, 'طعم خوشایند\\tشیرین']),\n",
      " (0.8425531387329102, [12228, 'مزه\\tطعم']),\n",
      " (0.8425531387329102, [6485, 'طعم\\tمزه']),\n",
      " (0.8103988766670227, [18717, 'بوی خوش\\tرایحه'])]\n",
      "'شاعر یوش'\n",
      "[(0.9125457406044006, [10373, 'زادگاه نیما شاعر نوپرداز\\tیوش']),\n",
      " (0.8690363168716431, [6996, 'زادگاه نیما\\tیوش']),\n",
      " (0.8484053611755371, [15523, 'دهکده نیما\\tیوش']),\n",
      " (0.5591140985488892, [25741, 'شاعر\\tسخنارا']),\n",
      " (0.555385947227478, [15839, 'سراینده\\tشاعر'])]\n",
      "'آندره ژید'\n",
      "[(0.590437650680542, [13677, 'اثري از آندره مالرو\\tروزهایخشم']),\n",
      " (0.4450002908706665, [18724, 'از آثار ژان باتیست\\tخسیس']),\n",
      " (0.4406965970993042, [20778, 'اثر تربیتی ژان ژاك روسو\\tامیل']),\n",
      " (0.44064339995384216, [8436, 'نویسنده فرانسوی\\tولتر']),\n",
      " (0.4223480224609375, [29227, 'شاعر سورئالیست فرانسوی وخالق اورلیا\\tنروال'])]\n"
     ]
    }
   ],
   "source": [
    "%%time\n",
    "\n",
    "sentences = [\"اسیر و گرفتار\"\n",
    ", \"داستانی به قلم آندره ژید فرانسوی\"\n",
    ", \"جهل\"\n",
    ", \"حیوان\"\n",
    ", \"فرمانی نظامی\"\n",
    ", \"پیام آسمانی\"\n",
    ", \"نهفتگی\"\n",
    ", \"افزونی برنج پس از پخته شدن\"\n",
    ", \"گاز نجیب سبک\"\n",
    ", \"خوش طعم\"\n",
    ", \"شاعر یوش\"\n",
    ", \"آندره ژید\"]\n",
    "\n",
    "for sentence in sentences:\n",
    "    query_embeddings = embed_sentence(sentence)\n",
    "    print(sentence)\n",
    "    print(qa_sim(query_embeddings)[:5])"
   ]
  },
  {
   "cell_type": "markdown",
   "id": "66a6e8b1-1995-4ebd-9bde-068b096a2579",
   "metadata": {},
   "source": [
    "We calculate similarity of each record of dataset against all other records of the dataset."
   ]
  },
  {
   "cell_type": "code",
   "execution_count": 14,
   "id": "0fdb6fbe-4744-4235-b6ba-c0cb8b8d5fec",
   "metadata": {
    "scrolled": true
   },
   "outputs": [
    {
     "name": "stderr",
     "output_type": "stream",
     "text": [
      "100%|██████████| 30157/30157 [3:02:06<00:00,  2.76it/s]  "
     ]
    },
    {
     "name": "stdout",
     "output_type": "stream",
     "text": [
      "CPU times: user 3h 2min 17s, sys: 20 s, total: 3h 2min 37s\n",
      "Wall time: 3h 2min 6s\n"
     ]
    },
    {
     "name": "stderr",
     "output_type": "stream",
     "text": [
      "\n"
     ]
    }
   ],
   "source": [
    "%%time\n",
    "\n",
    "firsts = []\n",
    "top_fives= []\n",
    "#for i in tqdm(range(len(devset))):\n",
    "for i in tqdm(range(len(cw_lines))):\n",
    "    q = cw_lines[i][1].split(\"\\t\")[0]\n",
    "    a = cw_lines[i][1].split(\"\\t\")[1]\n",
    "    inx = cw_lines[i][0]\n",
    "\n",
    "    query_embeddings = embed_sentence(q)\n",
    "    res = qa_sim(query_embeddings)[0:6] #, inx)[0:6]\n",
    "\n",
    "    res = [x for x in res if x[1][0] != inx]\n",
    "    if a in res[0][1][1]:\n",
    "        firsts.append({'q': q, 'a': a, 'found': res[0][1][1]})\n",
    "        \n",
    "    is_in_top_fives = [x[1] for x in res if a in x[1][1]]\n",
    "    if is_in_top_fives:\n",
    "        top_five = {\n",
    "            'q': q,\n",
    "            'a': a,\n",
    "            'found': []\n",
    "        }\n",
    "        for five in is_in_top_fives:\n",
    "            top_five['found'].append(five)\n",
    "\n",
    "        top_fives.append(top_five)"
   ]
  },
  {
   "cell_type": "markdown",
   "id": "be7a7b18-e19a-49f3-9324-600a30b8b83d",
   "metadata": {},
   "source": [
    "precision percent of first highest score and five highest score"
   ]
  },
  {
   "cell_type": "code",
   "execution_count": 43,
   "id": "fbb4aebc-30d2-476d-a0ac-0fd0e02d6208",
   "metadata": {},
   "outputs": [
    {
     "data": {
      "text/plain": [
       "(13.21, 26.34)"
      ]
     },
     "execution_count": 43,
     "metadata": {},
     "output_type": "execute_result"
    }
   ],
   "source": [
    "round(len(firsts)/len(cw_lines)*100, 2), round(len(top_fives)/len(cw_lines)*100, 2)"
   ]
  },
  {
   "cell_type": "code",
   "execution_count": 36,
   "id": "2619df92-5486-4806-816c-8165f8b59b4e",
   "metadata": {},
   "outputs": [
    {
     "data": {
      "text/plain": [
       "[{'q': 'دستگاه کنترل از راه دور',\n",
       "  'a': 'ریموت',\n",
       "  'found': 'دستگاه هدايت از دور\\tریموتکنترل'},\n",
       " {'q': 'فحش', 'a': 'ناسزا', 'found': 'فحش و دشنام\\tناسزا'},\n",
       " {'q': 'ice', 'a': 'یخ', 'found': 'یخ فروش\\tیخی'},\n",
       " {'q': 'نیم صدای ساعت', 'a': 'تیک', 'found': 'صدای ساعت\\tتیکتاک'},\n",
       " {'q': 'نام', 'a': 'اسم', 'found': 'اسم\\tنام'},\n",
       " {'q': 'ریاکاری و نفاق', 'a': 'دورویی', 'found': 'نفاق و ریاکاری\\tدورویی'},\n",
       " {'q': 'مال و ثروت', 'a': 'دارایی', 'found': 'ثروت و دارایی\\tمال'},\n",
       " {'q': 'دریوزه گری', 'a': 'گد', 'found': 'دریوزه گری\\tگدایی'},\n",
       " {'q': 'همگی و کلاً', 'a': 'یکجا', 'found': 'همگی و کلا\\tیکجا'},\n",
       " {'q': 'یکی از مزه ها', 'a': 'تلخ', 'found': 'از مزه ها\\tتلخ'},\n",
       " {'q': 'عدد بلبل', 'a': 'هزار', 'found': 'بلبل\\tهزار'},\n",
       " {'q': 'مامور', 'a': 'گماشته', 'found': 'گماشته\\tمامور'}]"
      ]
     },
     "execution_count": 36,
     "metadata": {},
     "output_type": "execute_result"
    }
   ],
   "source": [
    "firsts"
   ]
  },
  {
   "cell_type": "code",
   "execution_count": 17,
   "id": "93c3a2d8-9609-4acd-b43a-4dbcf2ab78b5",
   "metadata": {},
   "outputs": [
    {
     "data": {
      "text/plain": [
       "{'q': 'از ورزش\\u200cهای گروهی پرطرفدار',\n",
       " 'a': 'فوتبال',\n",
       " 'found': 'از ورزش\\u200cهای گروهی\\tفوتبال'}"
      ]
     },
     "execution_count": 17,
     "metadata": {},
     "output_type": "execute_result"
    }
   ],
   "source": [
    "random.choice(firsts)"
   ]
  },
  {
   "cell_type": "code",
   "execution_count": 18,
   "id": "2ccd86dc-7401-4615-aa41-e77861659a2f",
   "metadata": {},
   "outputs": [],
   "source": [
    "refined_firsts = [x for x in firsts if x['a'] == x['found'].split(\"\\t\")[1]]"
   ]
  },
  {
   "cell_type": "markdown",
   "id": "59574fe8-63f3-45f7-b9cf-610bdaac6991",
   "metadata": {},
   "source": [
    "Precision of exact same match for the first highest score"
   ]
  },
  {
   "cell_type": "code",
   "execution_count": 44,
   "id": "0a901287-300f-4342-bb97-74bc0fed3bf5",
   "metadata": {},
   "outputs": [
    {
     "data": {
      "text/plain": [
       "6.27"
      ]
     },
     "execution_count": 44,
     "metadata": {},
     "output_type": "execute_result"
    }
   ],
   "source": [
    "round(len(refined_firsts)/len(cw_lines)*100, 2)"
   ]
  },
  {
   "cell_type": "code",
   "execution_count": 48,
   "id": "2e4b209b-113e-471d-819d-0da0a9016b14",
   "metadata": {},
   "outputs": [
    {
     "data": {
      "text/plain": [
       "{'q': 'قیمتی و گران مایه',\n",
       " 'a': 'بهاگیر',\n",
       " 'found': 'هر چیز قیمتی و گران مایه\\tبهاگیر'}"
      ]
     },
     "execution_count": 48,
     "metadata": {},
     "output_type": "execute_result"
    }
   ],
   "source": [
    "random.choice(refined_firsts)"
   ]
  },
  {
   "cell_type": "markdown",
   "id": "41fff92d-404c-4673-8603-8c28c6b20c9d",
   "metadata": {},
   "source": [
    "Precision of exact same match in the top five highest scores"
   ]
  },
  {
   "cell_type": "code",
   "execution_count": 35,
   "id": "20c907b2-08be-41bd-9019-5691a0544701",
   "metadata": {},
   "outputs": [],
   "source": [
    "refined_top_fives = []\n",
    "for five in top_fives:\n",
    "    for f in five['found']:\n",
    "        if five['a'] == f[1].split(\"\\t\")[1]:\n",
    "            temp = {\n",
    "                'q': five['q'],\n",
    "                'a': five['a'],\n",
    "                'found': f[1]\n",
    "            }\n",
    "            refined_top_fives.append(temp)"
   ]
  },
  {
   "cell_type": "code",
   "execution_count": 46,
   "id": "7f9c81c7-6617-4419-8f0d-a8492a04ad2a",
   "metadata": {},
   "outputs": [
    {
     "data": {
      "text/plain": [
       "18.27"
      ]
     },
     "execution_count": 46,
     "metadata": {},
     "output_type": "execute_result"
    }
   ],
   "source": [
    "round(len(refined_top_fives)/len(cw_lines)*100, 2)"
   ]
  },
  {
   "cell_type": "code",
   "execution_count": 40,
   "id": "ba81287d-ace1-4e9e-8e79-f7a0ac1a6cb6",
   "metadata": {},
   "outputs": [
    {
     "data": {
      "text/plain": [
       "{'q': 'سردی و خنکی', 'a': 'برودت', 'found': 'سردی\\tبرودت'}"
      ]
     },
     "execution_count": 40,
     "metadata": {},
     "output_type": "execute_result"
    }
   ],
   "source": [
    "random.choice(refined_top_fives)"
   ]
  }
 ],
 "metadata": {
  "kernelspec": {
   "display_name": "Python 3 (ipykernel)",
   "language": "python",
   "name": "python3"
  },
  "language_info": {
   "codemirror_mode": {
    "name": "ipython",
    "version": 3
   },
   "file_extension": ".py",
   "mimetype": "text/x-python",
   "name": "python",
   "nbconvert_exporter": "python",
   "pygments_lexer": "ipython3",
   "version": "3.11.6"
  }
 },
 "nbformat": 4,
 "nbformat_minor": 5
}
